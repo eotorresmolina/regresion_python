{
 "cells": [
  {
   "cell_type": "markdown",
   "metadata": {
    "id": "Ea9CPlvttQda"
   },
   "source": [
    "<a href=\"https://www.inove.com.ar\"><img src=\"https://raw.githubusercontent.com/InoveAlumnos/dataset_analytics_python/master/images/PA%20Banner.png\" width=\"1000\" align=\"center\"></a>\n",
    "\n",
    "\n",
    "# Ejercicios de Regresión\n",
    "\n",
    "Ejemplo de regresión utilizando el dataset recolecado de pesos y estaturas de personas<br>\n",
    "\n",
    "[Dataset source](http://wiki.stat.ucla.edu/socr/index.php/SOCR_Data_Dinov_020108_HeightsWeights)\n",
    "\n",
    "v1.1"
   ]
  },
  {
   "cell_type": "code",
   "execution_count": 1,
   "metadata": {
    "executionInfo": {
     "elapsed": 2333,
     "status": "ok",
     "timestamp": 1603765603067,
     "user": {
      "displayName": "Hernán Contigiani",
      "photoUrl": "https://lh3.googleusercontent.com/a-/AOh14Ggvg04lTitIUU72BS6D299tXlZG8qalV594KkKRfg=s64",
      "userId": "01142101934719343059"
     },
     "user_tz": 180
    },
    "id": "xJN8ND5ctQdc"
   },
   "outputs": [],
   "source": [
    "import os\n",
    "import platform\n",
    "\n",
    "import numpy as np\n",
    "import matplotlib.pyplot as plt\n",
    "import seaborn as sns\n",
    "import pandas as pd"
   ]
  },
  {
   "cell_type": "markdown",
   "metadata": {
    "id": "v-jK-TsQCwW9"
   },
   "source": [
    "# Recolectar datos\n",
    "<img src=\"https://raw.githubusercontent.com/InoveAlumnos/dataset_analytics_python/master/images/Pipeline1.png\" width=\"1000\" align=\"middle\">"
   ]
  },
  {
   "cell_type": "code",
   "execution_count": 2,
   "metadata": {
    "executionInfo": {
     "elapsed": 2323,
     "status": "ok",
     "timestamp": 1603765603071,
     "user": {
      "displayName": "Hernán Contigiani",
      "photoUrl": "https://lh3.googleusercontent.com/a-/AOh14Ggvg04lTitIUU72BS6D299tXlZG8qalV594KkKRfg=s64",
      "userId": "01142101934719343059"
     },
     "user_tz": 180
    },
    "id": "j9x_YEdTtQeC",
    "tags": []
   },
   "outputs": [
    {
     "name": "stderr",
     "output_type": "stream",
     "text": [
      "  % Total    % Received % Xferd  Average Speed   Time    Time     Time  Current\n",
      "                                 Dload  Upload   Total   Spent    Left  Speed\n",
      "\n",
      "  0     0    0     0    0     0      0      0 --:--:-- --:--:-- --:--:--     0\n",
      "  0     0    0     0    0     0      0      0 --:--:--  0:00:01 --:--:--     0\n",
      " 81  418k   81  342k    0     0   342k      0  0:00:01  0:00:01 --:--:--  189k\n",
      "100  418k  100  418k    0     0   418k      0  0:00:01  0:00:01 --:--:--  230k\n"
     ]
    }
   ],
   "source": [
    "if os.access('weight_height.csv', os.F_OK) is False:\n",
    "    if platform.system() == 'Windows':\n",
    "        !curl https://raw.githubusercontent.com/InoveAlumnos/dataset_analytics_python/master/weight_height.csv > weight_height.csv\n",
    "    else:\n",
    "        !wget weight_height.csv https://raw.githubusercontent.com/InoveAlumnos/dataset_analytics_python/master/weight_height.csv"
   ]
  },
  {
   "cell_type": "markdown",
   "metadata": {
    "id": "Q5I6l8ZCFaZ8"
   },
   "source": [
    "# Procesar datos\n",
    "<img src=\"https://raw.githubusercontent.com/InoveAlumnos/dataset_analytics_python/master/images/Pipeline2.png\" width=\"1000\" align=\"middle\">"
   ]
  },
  {
   "cell_type": "code",
   "execution_count": 12,
   "metadata": {},
   "outputs": [
    {
     "data": {
      "text/html": [
       "<div>\n",
       "<style scoped>\n",
       "    .dataframe tbody tr th:only-of-type {\n",
       "        vertical-align: middle;\n",
       "    }\n",
       "\n",
       "    .dataframe tbody tr th {\n",
       "        vertical-align: top;\n",
       "    }\n",
       "\n",
       "    .dataframe thead th {\n",
       "        text-align: right;\n",
       "    }\n",
       "</style>\n",
       "<table border=\"1\" class=\"dataframe\">\n",
       "  <thead>\n",
       "    <tr style=\"text-align: right;\">\n",
       "      <th></th>\n",
       "      <th>Height</th>\n",
       "      <th>Weight</th>\n",
       "    </tr>\n",
       "  </thead>\n",
       "  <tbody>\n",
       "    <tr>\n",
       "      <th>count</th>\n",
       "      <td>10000.000000</td>\n",
       "      <td>10000.000000</td>\n",
       "    </tr>\n",
       "    <tr>\n",
       "      <th>mean</th>\n",
       "      <td>66.367560</td>\n",
       "      <td>161.440357</td>\n",
       "    </tr>\n",
       "    <tr>\n",
       "      <th>std</th>\n",
       "      <td>3.847528</td>\n",
       "      <td>32.108439</td>\n",
       "    </tr>\n",
       "    <tr>\n",
       "      <th>min</th>\n",
       "      <td>54.263133</td>\n",
       "      <td>64.700127</td>\n",
       "    </tr>\n",
       "    <tr>\n",
       "      <th>25%</th>\n",
       "      <td>63.505620</td>\n",
       "      <td>135.818051</td>\n",
       "    </tr>\n",
       "    <tr>\n",
       "      <th>50%</th>\n",
       "      <td>66.318070</td>\n",
       "      <td>161.212928</td>\n",
       "    </tr>\n",
       "    <tr>\n",
       "      <th>75%</th>\n",
       "      <td>69.174262</td>\n",
       "      <td>187.169525</td>\n",
       "    </tr>\n",
       "    <tr>\n",
       "      <th>max</th>\n",
       "      <td>78.998742</td>\n",
       "      <td>269.989699</td>\n",
       "    </tr>\n",
       "  </tbody>\n",
       "</table>\n",
       "</div>"
      ],
      "text/plain": [
       "             Height        Weight\n",
       "count  10000.000000  10000.000000\n",
       "mean      66.367560    161.440357\n",
       "std        3.847528     32.108439\n",
       "min       54.263133     64.700127\n",
       "25%       63.505620    135.818051\n",
       "50%       66.318070    161.212928\n",
       "75%       69.174262    187.169525\n",
       "max       78.998742    269.989699"
      ]
     },
     "execution_count": 12,
     "metadata": {},
     "output_type": "execute_result"
    }
   ],
   "source": [
    "# Con los datos recolectados obtengo el dataframe:\n",
    "df = pd.read_csv('weight_height.csv')\n",
    "des = df.describe()\n",
    "des"
   ]
  },
  {
   "cell_type": "code",
   "execution_count": 14,
   "metadata": {
    "colab": {
     "base_uri": "https://localhost:8080/",
     "height": 359
    },
    "executionInfo": {
     "elapsed": 2314,
     "status": "ok",
     "timestamp": 1603765603072,
     "user": {
      "displayName": "Hernán Contigiani",
      "photoUrl": "https://lh3.googleusercontent.com/a-/AOh14Ggvg04lTitIUU72BS6D299tXlZG8qalV594KkKRfg=s64",
      "userId": "01142101934719343059"
     },
     "user_tz": 180
    },
    "id": "RQgSiWHXFWQD",
    "outputId": "1e10935e-2055-4d4a-d081-41b6965d7bfb"
   },
   "outputs": [
    {
     "data": {
      "text/html": [
       "<div>\n",
       "<style scoped>\n",
       "    .dataframe tbody tr th:only-of-type {\n",
       "        vertical-align: middle;\n",
       "    }\n",
       "\n",
       "    .dataframe tbody tr th {\n",
       "        vertical-align: top;\n",
       "    }\n",
       "\n",
       "    .dataframe thead th {\n",
       "        text-align: right;\n",
       "    }\n",
       "</style>\n",
       "<table border=\"1\" class=\"dataframe\">\n",
       "  <thead>\n",
       "    <tr style=\"text-align: right;\">\n",
       "      <th></th>\n",
       "      <th>Height</th>\n",
       "      <th>Weight</th>\n",
       "    </tr>\n",
       "  </thead>\n",
       "  <tbody>\n",
       "    <tr>\n",
       "      <th>count</th>\n",
       "      <td>10000.000000</td>\n",
       "      <td>10000.000000</td>\n",
       "    </tr>\n",
       "    <tr>\n",
       "      <th>mean</th>\n",
       "      <td>66.367560</td>\n",
       "      <td>161.440357</td>\n",
       "    </tr>\n",
       "    <tr>\n",
       "      <th>std</th>\n",
       "      <td>3.847528</td>\n",
       "      <td>32.108439</td>\n",
       "    </tr>\n",
       "    <tr>\n",
       "      <th>min</th>\n",
       "      <td>54.263133</td>\n",
       "      <td>64.700127</td>\n",
       "    </tr>\n",
       "    <tr>\n",
       "      <th>25%</th>\n",
       "      <td>63.505620</td>\n",
       "      <td>135.818051</td>\n",
       "    </tr>\n",
       "    <tr>\n",
       "      <th>50%</th>\n",
       "      <td>66.318070</td>\n",
       "      <td>161.212928</td>\n",
       "    </tr>\n",
       "    <tr>\n",
       "      <th>75%</th>\n",
       "      <td>69.174262</td>\n",
       "      <td>187.169525</td>\n",
       "    </tr>\n",
       "    <tr>\n",
       "      <th>max</th>\n",
       "      <td>78.998742</td>\n",
       "      <td>269.989699</td>\n",
       "    </tr>\n",
       "    <tr>\n",
       "      <th>NaN</th>\n",
       "      <td>0.000000</td>\n",
       "      <td>0.000000</td>\n",
       "    </tr>\n",
       "    <tr>\n",
       "      <th>%NaN</th>\n",
       "      <td>0.000000</td>\n",
       "      <td>0.000000</td>\n",
       "    </tr>\n",
       "  </tbody>\n",
       "</table>\n",
       "</div>"
      ],
      "text/plain": [
       "             Height        Weight\n",
       "count  10000.000000  10000.000000\n",
       "mean      66.367560    161.440357\n",
       "std        3.847528     32.108439\n",
       "min       54.263133     64.700127\n",
       "25%       63.505620    135.818051\n",
       "50%       66.318070    161.212928\n",
       "75%       69.174262    187.169525\n",
       "max       78.998742    269.989699\n",
       "NaN        0.000000      0.000000\n",
       "%NaN       0.000000      0.000000"
      ]
     },
     "execution_count": 14,
     "metadata": {},
     "output_type": "execute_result"
    }
   ],
   "source": [
    "# Alumno, realice una inspeccion del dataset en búsqueda de elementos faltantes\n",
    "des.loc['NaN'] = df.isna().sum()\n",
    "des.loc['%NaN'] = (df.isna().mean()) * 100\n",
    "des"
   ]
  },
  {
   "cell_type": "markdown",
   "metadata": {},
   "source": [
    "*Observamos que no hay datos corruptos o elementos faltantes.*"
   ]
  },
  {
   "cell_type": "code",
   "execution_count": 15,
   "metadata": {},
   "outputs": [
    {
     "name": "stdout",
     "output_type": "stream",
     "text": [
      "Hay para Analizar 10000 datos.\n"
     ]
    }
   ],
   "source": [
    "print('Hay para Analizar {} datos.'.format(df.shape[0]))"
   ]
  },
  {
   "cell_type": "code",
   "execution_count": 16,
   "metadata": {
    "colab": {
     "base_uri": "https://localhost:8080/",
     "height": 419
    },
    "executionInfo": {
     "elapsed": 2306,
     "status": "ok",
     "timestamp": 1603765603073,
     "user": {
      "displayName": "Hernán Contigiani",
      "photoUrl": "https://lh3.googleusercontent.com/a-/AOh14Ggvg04lTitIUU72BS6D299tXlZG8qalV594KkKRfg=s64",
      "userId": "01142101934719343059"
     },
     "user_tz": 180
    },
    "id": "5AAORpEFw6iI",
    "outputId": "e9a1b408-eca2-45bc-d4bb-fd57410810e3"
   },
   "outputs": [],
   "source": [
    "# Alumno, en caso de encontrarse elementos faltantes,\n",
    "# elimine aquellas filas que tengan columnas vacias\n",
    "# Escriba el procedimiento tenga o no elementos faltantes"
   ]
  },
  {
   "cell_type": "code",
   "execution_count": 32,
   "metadata": {},
   "outputs": [],
   "source": [
    "# Realizo una copia del dataframe para luego realizar la \"limpieza\".\n",
    "df_clean = df.copy()\n",
    "\n",
    "# Saco aquellas filas que tengan columnas vacías usando el método: \"dropna\":\n",
    "df_clean.dropna(subset=['Gender'], inplace=True)\n",
    "df_clean.dropna(subset=['Height'], inplace=True)\n",
    "df_clean.dropna(subset=['Weight'], inplace=True)"
   ]
  },
  {
   "cell_type": "code",
   "execution_count": 33,
   "metadata": {
    "colab": {
     "base_uri": "https://localhost:8080/",
     "height": 204
    },
    "executionInfo": {
     "elapsed": 2299,
     "status": "ok",
     "timestamp": 1603765603074,
     "user": {
      "displayName": "Hernán Contigiani",
      "photoUrl": "https://lh3.googleusercontent.com/a-/AOh14Ggvg04lTitIUU72BS6D299tXlZG8qalV594KkKRfg=s64",
      "userId": "01142101934719343059"
     },
     "user_tz": 180
    },
    "id": "yVdxZvGKFvM9",
    "outputId": "ad8ee7a4-c748-4ac2-be6f-93a3e922471c"
   },
   "outputs": [
    {
     "data": {
      "text/html": [
       "<div>\n",
       "<style scoped>\n",
       "    .dataframe tbody tr th:only-of-type {\n",
       "        vertical-align: middle;\n",
       "    }\n",
       "\n",
       "    .dataframe tbody tr th {\n",
       "        vertical-align: top;\n",
       "    }\n",
       "\n",
       "    .dataframe thead th {\n",
       "        text-align: right;\n",
       "    }\n",
       "</style>\n",
       "<table border=\"1\" class=\"dataframe\">\n",
       "  <thead>\n",
       "    <tr style=\"text-align: right;\">\n",
       "      <th></th>\n",
       "      <th>Gender</th>\n",
       "      <th>Height</th>\n",
       "      <th>Weight</th>\n",
       "    </tr>\n",
       "  </thead>\n",
       "  <tbody>\n",
       "    <tr>\n",
       "      <th>0</th>\n",
       "      <td>Male</td>\n",
       "      <td>73.847017</td>\n",
       "      <td>241.893563</td>\n",
       "    </tr>\n",
       "    <tr>\n",
       "      <th>1</th>\n",
       "      <td>Male</td>\n",
       "      <td>68.781904</td>\n",
       "      <td>162.310473</td>\n",
       "    </tr>\n",
       "    <tr>\n",
       "      <th>2</th>\n",
       "      <td>Male</td>\n",
       "      <td>74.110105</td>\n",
       "      <td>212.740856</td>\n",
       "    </tr>\n",
       "    <tr>\n",
       "      <th>3</th>\n",
       "      <td>Male</td>\n",
       "      <td>71.730978</td>\n",
       "      <td>220.042470</td>\n",
       "    </tr>\n",
       "    <tr>\n",
       "      <th>4</th>\n",
       "      <td>Male</td>\n",
       "      <td>69.881796</td>\n",
       "      <td>206.349801</td>\n",
       "    </tr>\n",
       "  </tbody>\n",
       "</table>\n",
       "</div>"
      ],
      "text/plain": [
       "  Gender     Height      Weight\n",
       "0   Male  73.847017  241.893563\n",
       "1   Male  68.781904  162.310473\n",
       "2   Male  74.110105  212.740856\n",
       "3   Male  71.730978  220.042470\n",
       "4   Male  69.881796  206.349801"
      ]
     },
     "execution_count": 33,
     "metadata": {},
     "output_type": "execute_result"
    }
   ],
   "source": [
    "# Alumno, inspeccione el dataset, visualice las columnas que posee y sus primeras filas\n",
    "df_clean.head()"
   ]
  },
  {
   "cell_type": "code",
   "execution_count": 42,
   "metadata": {
    "colab": {
     "base_uri": "https://localhost:8080/",
     "height": 204
    },
    "executionInfo": {
     "elapsed": 2293,
     "status": "ok",
     "timestamp": 1603765603076,
     "user": {
      "displayName": "Hernán Contigiani",
      "photoUrl": "https://lh3.googleusercontent.com/a-/AOh14Ggvg04lTitIUU72BS6D299tXlZG8qalV594KkKRfg=s64",
      "userId": "01142101934719343059"
     },
     "user_tz": 180
    },
    "id": "NXJ9syd0xfRJ",
    "outputId": "ab45834a-a63f-4733-e059-60ba2d68abdd"
   },
   "outputs": [],
   "source": [
    "# Alumno: copie los datos a un nuevo dataset (df2), pero ahora transforme las columnas en \n",
    "# peso --> proveniente de Weight, debe pasar de libras a kilobramos\n",
    "# altura --> proveniente de Height, debe pasar de pulgadas a metros\n",
    "# sexo --> masculino (proveniente de Male) y femenino (proveniente de Female)\n",
    "df2 = df_clean.copy()\n",
    "df2['Gender'] = df_clean['Gender'].apply(lambda x: 'Masculino' if x == 'Male' else 'Femenino')\n",
    "df2['Height'] = (df_clean['Height']  * 25.4) / 1000\n",
    "df2['Weight'] = (df_clean['Weight']  * 453.592) / 1000"
   ]
  },
  {
   "cell_type": "code",
   "execution_count": 46,
   "metadata": {},
   "outputs": [
    {
     "data": {
      "text/html": [
       "<div>\n",
       "<style scoped>\n",
       "    .dataframe tbody tr th:only-of-type {\n",
       "        vertical-align: middle;\n",
       "    }\n",
       "\n",
       "    .dataframe tbody tr th {\n",
       "        vertical-align: top;\n",
       "    }\n",
       "\n",
       "    .dataframe thead th {\n",
       "        text-align: right;\n",
       "    }\n",
       "</style>\n",
       "<table border=\"1\" class=\"dataframe\">\n",
       "  <thead>\n",
       "    <tr style=\"text-align: right;\">\n",
       "      <th></th>\n",
       "      <th>Gender</th>\n",
       "      <th>Height</th>\n",
       "      <th>Weight</th>\n",
       "    </tr>\n",
       "  </thead>\n",
       "  <tbody>\n",
       "    <tr>\n",
       "      <th>0</th>\n",
       "      <td>Masculino</td>\n",
       "      <td>1.875714</td>\n",
       "      <td>109.720985</td>\n",
       "    </tr>\n",
       "    <tr>\n",
       "      <th>1</th>\n",
       "      <td>Masculino</td>\n",
       "      <td>1.747060</td>\n",
       "      <td>73.622732</td>\n",
       "    </tr>\n",
       "    <tr>\n",
       "      <th>2</th>\n",
       "      <td>Masculino</td>\n",
       "      <td>1.882397</td>\n",
       "      <td>96.497550</td>\n",
       "    </tr>\n",
       "    <tr>\n",
       "      <th>3</th>\n",
       "      <td>Masculino</td>\n",
       "      <td>1.821967</td>\n",
       "      <td>99.809504</td>\n",
       "    </tr>\n",
       "    <tr>\n",
       "      <th>4</th>\n",
       "      <td>Masculino</td>\n",
       "      <td>1.774998</td>\n",
       "      <td>93.598619</td>\n",
       "    </tr>\n",
       "  </tbody>\n",
       "</table>\n",
       "</div>"
      ],
      "text/plain": [
       "      Gender    Height      Weight\n",
       "0  Masculino  1.875714  109.720985\n",
       "1  Masculino  1.747060   73.622732\n",
       "2  Masculino  1.882397   96.497550\n",
       "3  Masculino  1.821967   99.809504\n",
       "4  Masculino  1.774998   93.598619"
      ]
     },
     "execution_count": 46,
     "metadata": {},
     "output_type": "execute_result"
    }
   ],
   "source": [
    "df2.head()"
   ]
  },
  {
   "cell_type": "code",
   "execution_count": 48,
   "metadata": {
    "colab": {
     "base_uri": "https://localhost:8080/",
     "height": 34
    },
    "executionInfo": {
     "elapsed": 3694,
     "status": "ok",
     "timestamp": 1603765604484,
     "user": {
      "displayName": "Hernán Contigiani",
      "photoUrl": "https://lh3.googleusercontent.com/a-/AOh14Ggvg04lTitIUU72BS6D299tXlZG8qalV594KkKRfg=s64",
      "userId": "01142101934719343059"
     },
     "user_tz": 180
    },
    "id": "XPQ2CtCGL3Zn",
    "outputId": "1008b319-f479-4244-c07b-b7b5bd672dc6"
   },
   "outputs": [
    {
     "name": "stdout",
     "output_type": "stream",
     "text": [
      "Una Vez Procesado y Limpiado, los Datos a Analizar son 10000.\n"
     ]
    }
   ],
   "source": [
    "# Fin de la limpieza, alumno especifique cuantas filas se poseen para analizar\n",
    "print('Una Vez Procesado y Limpiado, los Datos a Analizar son {}.'.format(df2.shape[0]))"
   ]
  },
  {
   "cell_type": "markdown",
   "metadata": {
    "id": "8T_3enyVHYJa"
   },
   "source": [
    "# Explorar datos\n",
    "<img src=\"https://raw.githubusercontent.com/InoveAlumnos/dataset_analytics_python/master/images/Pipeline3.png\" width=\"1000\" align=\"middle\">"
   ]
  },
  {
   "cell_type": "code",
   "execution_count": null,
   "metadata": {
    "colab": {
     "base_uri": "https://localhost:8080/",
     "height": 279
    },
    "executionInfo": {
     "elapsed": 3688,
     "status": "ok",
     "timestamp": 1603765604486,
     "user": {
      "displayName": "Hernán Contigiani",
      "photoUrl": "https://lh3.googleusercontent.com/a-/AOh14Ggvg04lTitIUU72BS6D299tXlZG8qalV594KkKRfg=s64",
      "userId": "01142101934719343059"
     },
     "user_tz": 180
    },
    "id": "tvdCv6nCxZYF",
    "outputId": "d7d60627-03d6-4a6e-fe2f-d12076bbc301"
   },
   "outputs": [],
   "source": [
    "# Alumno graficar el peso (y) en función de la altura (x) pero para ambos sexos por separados\n",
    "# Se debe realizar todo en un mismo \"ax\", cada scatter plot con diferente color para ver los dos grupos"
   ]
  },
  {
   "cell_type": "code",
   "execution_count": 94,
   "metadata": {},
   "outputs": [
    {
     "data": {
      "text/plain": [
       "<AxesSubplot:xlabel='Peso [kg]', ylabel='Altura [mt]'>"
      ]
     },
     "execution_count": 94,
     "metadata": {},
     "output_type": "execute_result"
    },
    {
     "data": {
      "image/png": "[encoded data removed]",
      "text/plain": [
       "<Figure size 432x288 with 1 Axes>"
      ]
     },
     "metadata": {
      "needs_background": "light"
     },
     "output_type": "display_data"
    }
   ],
   "source": [
    "x_masc = df2[df2['Gender']=='Masculino']['Height'].values\n",
    "y_masc = df2[df2['Gender']=='Masculino']['Weight'].values\n",
    "\n",
    "x_femen = df2[df2['Gender']=='Femenino']['Height'].values\n",
    "y_femen = df2[df2['Gender']=='Femenino']['Weight'].values\n",
    "\n",
    "fig = plt.figure()\n",
    "ax = fig.add_subplot()\n",
    "ax.set_xlabel('Peso [kg]')\n",
    "ax.set_ylabel('Altura [mt]')\n",
    "sns.scatterplot(x=x_masc, y=y_masc, label='Masculino', color='darkblue')\n",
    "sns.scatterplot(x=x_femen, y=y_femen, label='Femenino', color='darkred')"
   ]
  },
  {
   "cell_type": "code",
   "execution_count": 97,
   "metadata": {
    "colab": {
     "base_uri": "https://localhost:8080/",
     "height": 386
    },
    "executionInfo": {
     "elapsed": 3677,
     "status": "ok",
     "timestamp": 1603765604491,
     "user": {
      "displayName": "Hernán Contigiani",
      "photoUrl": "https://lh3.googleusercontent.com/a-/AOh14Ggvg04lTitIUU72BS6D299tXlZG8qalV594KkKRfg=s64",
      "userId": "01142101934719343059"
     },
     "user_tz": 180
    },
    "id": "Ko3gQ2CU0lfp",
    "outputId": "9448a487-2b34-40cb-bfc1-fd66fdb461ed"
   },
   "outputs": [
    {
     "name": "stdout",
     "output_type": "stream",
     "text": [
      "El valor medio o la \"media\" es de: 1.7532691860179221\n"
     ]
    },
    {
     "data": {
      "image/png": "[encoded data removed]",
      "text/plain": [
       "<Figure size 432x288 with 1 Axes>"
      ]
     },
     "metadata": {
      "needs_background": "light"
     },
     "output_type": "display_data"
    }
   ],
   "source": [
    "# Alumno: Dibujar la distribucion (histograma) de la altura en hombres\n",
    "# Además, imprimir en pantalla el valor medio\n",
    "\n",
    "sns.histplot(df2[df2['Gender'] == 'Masculino']['Height'])\n",
    "\n",
    "media = df2[df2['Gender'] == 'Masculino']['Height'].mean()\n",
    "print('El valor medio o la \"media\" es de: {}'.format(media))"
   ]
  },
  {
   "cell_type": "code",
   "execution_count": 99,
   "metadata": {},
   "outputs": [
    {
     "name": "stdout",
     "output_type": "stream",
     "text": [
      "El valor medio o la \"media\" es de: 1.6182028495269967\n"
     ]
    },
    {
     "data": {
      "image/png": "[encoded data removed]",
      "text/plain": [
       "<Figure size 432x288 with 1 Axes>"
      ]
     },
     "metadata": {
      "needs_background": "light"
     },
     "output_type": "display_data"
    }
   ],
   "source": [
    "# Alumno: Dibujar la distribucion (histograma) de la altura en mujeres\n",
    "# Además, imprimir en pantalla el valor medio\n",
    "\n",
    "sns.histplot(df2[df2['Gender'] == 'Femenino']['Height'])\n",
    "\n",
    "media = df2[df2['Gender'] == 'Femenino']['Height'].mean()\n",
    "print('El valor medio o la \"media\" es de: {}'.format(media))"
   ]
  },
  {
   "cell_type": "code",
   "execution_count": 98,
   "metadata": {
    "colab": {
     "base_uri": "https://localhost:8080/",
     "height": 369
    },
    "executionInfo": {
     "elapsed": 4856,
     "status": "ok",
     "timestamp": 1603765605679,
     "user": {
      "displayName": "Hernán Contigiani",
      "photoUrl": "https://lh3.googleusercontent.com/a-/AOh14Ggvg04lTitIUU72BS6D299tXlZG8qalV594KkKRfg=s64",
      "userId": "01142101934719343059"
     },
     "user_tz": 180
    },
    "id": "TLi1hbpf0ZsV",
    "outputId": "9781b9f0-a746-4de6-e45c-ebf260c93b91"
   },
   "outputs": [
    {
     "data": {
      "text/plain": [
       "<seaborn.axisgrid.FacetGrid at 0x13d36bee6c8>"
      ]
     },
     "execution_count": 98,
     "metadata": {},
     "output_type": "execute_result"
    },
    {
     "data": {
      "image/png": "[encoded data removed]",
      "text/plain": [
       "<Figure size 446x360 with 1 Axes>"
      ]
     },
     "metadata": {
      "needs_background": "light"
     },
     "output_type": "display_data"
    }
   ],
   "source": [
    "# Alumno: porque no prueba la función displot de seaborn que acepta\n",
    "# \"colorear\" según la categoría deseada.\n",
    "# Ingresar parámetros= data=df2, x=\"altura\", hue=\"sexo\"\n",
    "sns.displot(data=df2, x=\"Height\", hue=\"Gender\")"
   ]
  },
  {
   "cell_type": "markdown",
   "metadata": {
    "id": "APXYUcIdiDHh"
   },
   "source": [
    "# Entrenar modelo\n",
    "<img src=\"https://raw.githubusercontent.com/InoveAlumnos/dataset_analytics_python/master/images/Pipeline4.png\" width=\"1000\" align=\"middle\">"
   ]
  },
  {
   "cell_type": "markdown",
   "metadata": {
    "id": "8y9xIL_0iE5N"
   },
   "source": [
    "Alumno:<br>\n",
    "Para esta regresión se utilizará como variable de entrada el peso (X) y como salida la altura (y). Crear el modelo de regresión lineal que sea de su agrado o invierta las variables de salida y entrada si así lo prefiere. Debe elegir trabajar con los datos de sexo masculino o femenino, o duplicar el trabajo y realizar ambos.<br>\n",
    "Pasor a seguir:\n",
    "- Obtener las variables X e y (para masculino y/o femenino)\n",
    "- Dividir el dataset en train y test 70%30%\n",
    "- Entrenar un modelo de regresión\n",
    "- Calcular la métrica r2_score del modelo (y_hat vs y_test)\n",
    "- Dibujar el resultado de la regresion sobre los datos de entrada\n"
   ]
  },
  {
   "cell_type": "markdown",
   "metadata": {},
   "source": []
  },
  {
   "cell_type": "markdown",
   "metadata": {},
   "source": [
    "- ## Masculino"
   ]
  },
  {
   "cell_type": "code",
   "execution_count": 142,
   "metadata": {},
   "outputs": [
    {
     "data": {
      "text/plain": [
       "array([[109.72098511],\n",
       "       [ 73.62273185],\n",
       "       [ 96.49755015],\n",
       "       ...,\n",
       "       [ 90.35343991],\n",
       "       [ 84.3254333 ],\n",
       "       [ 90.22081499]])"
      ]
     },
     "execution_count": 142,
     "metadata": {},
     "output_type": "execute_result"
    }
   ],
   "source": [
    "# Obtengo las variables X e y (para masculino)\n",
    "X_m = df2[df2['Gender'] == 'Masculino'][['Weight']].values\n",
    "X_m"
   ]
  },
  {
   "cell_type": "code",
   "execution_count": 143,
   "metadata": {},
   "outputs": [
    {
     "data": {
      "text/plain": [
       "array([1.87571423, 1.74706036, 1.88239668, ..., 1.70215039, 1.81756605,\n",
       "       1.78693775])"
      ]
     },
     "execution_count": 143,
     "metadata": {},
     "output_type": "execute_result"
    }
   ],
   "source": [
    "y_m = df2[df2['Gender'] == 'Masculino']['Height'].values\n",
    "y_m"
   ]
  },
  {
   "cell_type": "code",
   "execution_count": 144,
   "metadata": {},
   "outputs": [],
   "source": [
    "#Divido el dataset en train y test 70%30%\n",
    "from sklearn.model_selection import train_test_split\n",
    "\n",
    "X_train_m, X_test_m, y_train_m, y_test_m = train_test_split(X_m, y_m, test_size=0.3, random_state=42)"
   ]
  },
  {
   "cell_type": "code",
   "execution_count": 145,
   "metadata": {},
   "outputs": [
    {
     "data": {
      "text/plain": [
       "array([1.83107698, 1.72784776, 1.72521746, ..., 1.84538681, 1.82376298,\n",
       "       1.75660683])"
      ]
     },
     "execution_count": 145,
     "metadata": {},
     "output_type": "execute_result"
    }
   ],
   "source": [
    "# Entreno el Modelo utilizando Regresión Lineal de sklearn.\n",
    "from sklearn import linear_model\n",
    "\n",
    "lr = linear_model.LinearRegression()\n",
    "lr.fit(X_train_m, y_train_m)\n",
    "y_hat_m = lr.predict(X_test_m)\n",
    "\n",
    "y_hat_m"
   ]
  },
  {
   "cell_type": "markdown",
   "metadata": {},
   "source": [
    "- ## Femenino"
   ]
  },
  {
   "cell_type": "code",
   "execution_count": 148,
   "metadata": {},
   "outputs": [
    {
     "data": {
      "text/plain": [
       "array([[46.30644813],\n",
       "       [64.09519069],\n",
       "       [59.43933193],\n",
       "       ...,\n",
       "       [58.2753768 ],\n",
       "       [74.32216565],\n",
       "       [51.55032378]])"
      ]
     },
     "execution_count": 148,
     "metadata": {},
     "output_type": "execute_result"
    }
   ],
   "source": [
    "# Obtengo las variables X e y (para femenino)\n",
    "X_f = df2[df2['Gender'] == 'Femenino'][['Weight']].values\n",
    "X_f"
   ]
  },
  {
   "cell_type": "code",
   "execution_count": 149,
   "metadata": {},
   "outputs": [
    {
     "data": {
      "text/plain": [
       "array([1.49633259, 1.65684232, 1.6095727 , ..., 1.622247  , 1.75346978,\n",
       "       1.57338385])"
      ]
     },
     "execution_count": 149,
     "metadata": {},
     "output_type": "execute_result"
    }
   ],
   "source": [
    "y_f = df2[df2['Gender'] == 'Femenino']['Height'].values\n",
    "y_f"
   ]
  },
  {
   "cell_type": "code",
   "execution_count": 150,
   "metadata": {},
   "outputs": [],
   "source": [
    "#Divido el dataset en train y test 70%30%\n",
    "from sklearn.model_selection import train_test_split\n",
    "\n",
    "X_train_f, X_test_f, y_train_f, y_test_f = train_test_split(X_f, y_f, test_size=0.3, random_state=42)"
   ]
  },
  {
   "cell_type": "code",
   "execution_count": 174,
   "metadata": {},
   "outputs": [
    {
     "data": {
      "text/plain": [
       "array([1.6834315 , 1.48151332, 1.70632042, ..., 1.52317771, 1.66569538,\n",
       "       1.69148468])"
      ]
     },
     "execution_count": 174,
     "metadata": {},
     "output_type": "execute_result"
    }
   ],
   "source": [
    "# Entreno el Modelo utilizando Regresión Lineal de sklearn.\n",
    "from sklearn import linear_model\n",
    "\n",
    "lr = linear_model.LinearRegression()\n",
    "lr.fit(X_train_f, y_train_f)\n",
    "y_hat_f = lr.predict(X_test_f)\n",
    "\n",
    "y_hat_f"
   ]
  },
  {
   "cell_type": "markdown",
   "metadata": {
    "id": "L65NqXhOohII"
   },
   "source": [
    "# Validar modelo\n",
    "<img src=\"https://raw.githubusercontent.com/InoveAlumnos/dataset_analytics_python/master/images/Pipeline5.png\" width=\"1000\" align=\"middle\">"
   ]
  },
  {
   "cell_type": "code",
   "execution_count": 153,
   "metadata": {},
   "outputs": [
    {
     "name": "stdout",
     "output_type": "stream",
     "text": [
      "El Coeficiente de Determinación (r2_score) para el Género Masculino es de: 0.747.\n",
      "El Coeficiente de Determinación (r2_score) para el Género Femenino es de: 0.731.\n"
     ]
    }
   ],
   "source": [
    "# Calculo la métrica r2_score del modelo (y_hat vs y_test)\n",
    "from sklearn.metrics import r2_score\n",
    "\n",
    "value_m = r2_score(y_test_m, y_hat_m)\n",
    "value_f = r2_score(y_test_f, y_hat_f)\n",
    "print('El Coeficiente de Determinación (r2_score) para el Género Masculino es de: {0:.3f}.'.format(value_m))\n",
    "print('El Coeficiente de Determinación (r2_score) para el Género Femenino es de: {0:.3f}.'.format(value_f))"
   ]
  },
  {
   "cell_type": "markdown",
   "metadata": {
    "id": "C1Ndkl6uopBq"
   },
   "source": [
    "# Utilizar modelo\n",
    "<img src=\"https://raw.githubusercontent.com/InoveAlumnos/dataset_analytics_python/master/images/Pipeline6.png\" width=\"1000\" align=\"middle\">"
   ]
  },
  {
   "cell_type": "code",
   "execution_count": null,
   "metadata": {},
   "outputs": [],
   "source": []
  }
 ],
 "metadata": {
  "colab": {
   "collapsed_sections": [],
   "name": "1_weight_height.ipynb",
   "provenance": [],
   "toc_visible": true
  },
  "kernelspec": {
   "display_name": "Python 3",
   "language": "python",
   "name": "python3"
  },
  "language_info": {
   "codemirror_mode": {
    "name": "ipython",
    "version": 3
   },
   "file_extension": ".py",
   "mimetype": "text/x-python",
   "name": "python",
   "nbconvert_exporter": "python",
   "pygments_lexer": "ipython3",
   "version": "3.7.7"
  }
 },
 "nbformat": 4,
 "nbformat_minor": 4
}
